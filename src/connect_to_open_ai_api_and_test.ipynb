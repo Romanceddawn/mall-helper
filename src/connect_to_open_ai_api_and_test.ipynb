{
 "cells": [
  {
   "cell_type": "code",
   "execution_count": 3,
   "metadata": {},
   "outputs": [
    {
     "name": "stdout",
     "output_type": "stream",
     "text": [
      "\n",
      "\n",
      "As a shopping assistant, I would be responsible for helping customers find the items they need,\n"
     ]
    }
   ],
   "source": [
    "import os\n",
    "import openai\n",
    "\n",
    "with open('/Users/wachowiak/My Drive (alexander.c.wachowiak@gmail.com)/Documents/Projects/api_key_1', 'r') as f:\n",
    "    openai.api_key = f.read().strip()\n",
    "openai.Model.retrieve(\"text-davinci-003\")\n",
    "\n",
    "input_prompt = \"Image you are a shopping Assistant\"\n",
    "response = openai.Completion.create(model=\"text-davinci-003\", prompt=input_prompt, temperature=0, max_tokens=20)\n",
    "response_string = response[\"choices\"][0][\"text\"]\n",
    "print(response_string)"
   ]
  },
  {
   "cell_type": "code",
   "execution_count": null,
   "metadata": {},
   "outputs": [],
   "source": []
  }
 ],
 "metadata": {
  "kernelspec": {
   "display_name": "env",
   "language": "python",
   "name": "python3"
  },
  "language_info": {
   "codemirror_mode": {
    "name": "ipython",
    "version": 3
   },
   "file_extension": ".py",
   "mimetype": "text/x-python",
   "name": "python",
   "nbconvert_exporter": "python",
   "pygments_lexer": "ipython3",
   "version": "3.10.10"
  },
  "orig_nbformat": 4
 },
 "nbformat": 4,
 "nbformat_minor": 2
}

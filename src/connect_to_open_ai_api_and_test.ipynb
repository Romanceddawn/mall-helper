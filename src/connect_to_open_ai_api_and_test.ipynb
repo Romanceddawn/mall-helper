{
 "cells": [
  {
   "cell_type": "code",
   "execution_count": 1,
   "metadata": {},
   "outputs": [
    {
     "data": {
      "text/plain": [
       "<Model model id=text-davinci-003 at 0x111b30d10> JSON: {\n",
       "  \"created\": 1669599635,\n",
       "  \"id\": \"text-davinci-003\",\n",
       "  \"object\": \"model\",\n",
       "  \"owned_by\": \"openai-internal\",\n",
       "  \"parent\": null,\n",
       "  \"permission\": [\n",
       "    {\n",
       "      \"allow_create_engine\": false,\n",
       "      \"allow_fine_tuning\": false,\n",
       "      \"allow_logprobs\": true,\n",
       "      \"allow_sampling\": true,\n",
       "      \"allow_search_indices\": false,\n",
       "      \"allow_view\": true,\n",
       "      \"created\": 1677793558,\n",
       "      \"group\": null,\n",
       "      \"id\": \"modelperm-6CAfTW5IbFpnlziQKoDilahq\",\n",
       "      \"is_blocking\": false,\n",
       "      \"object\": \"model_permission\",\n",
       "      \"organization\": \"*\"\n",
       "    }\n",
       "  ],\n",
       "  \"root\": \"text-davinci-003\"\n",
       "}"
      ]
     },
     "execution_count": 1,
     "metadata": {},
     "output_type": "execute_result"
    }
   ],
   "source": [
    "import os\n",
    "import openai\n",
    "with open('/Users/wachowiak/My Drive (alexander.c.wachowiak@gmail.com)/Documents/Projects/api_key_1', 'r') as f:\n",
    "    openai.api_key = f.read().strip()\n",
    "openai.Model.retrieve(\"text-davinci-003\")\n"
   ]
  }
 ],
 "metadata": {
  "kernelspec": {
   "display_name": "env",
   "language": "python",
   "name": "python3"
  },
  "language_info": {
   "codemirror_mode": {
    "name": "ipython",
    "version": 3
   },
   "file_extension": ".py",
   "mimetype": "text/x-python",
   "name": "python",
   "nbconvert_exporter": "python",
   "pygments_lexer": "ipython3",
   "version": "3.10.10"
  },
  "orig_nbformat": 4
 },
 "nbformat": 4,
 "nbformat_minor": 2
}
